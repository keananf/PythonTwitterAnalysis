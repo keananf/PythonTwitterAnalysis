{
 "cells": [
  {
   "cell_type": "markdown",
   "metadata": {},
   "source": [
    "# Twitter Data Visualisation\n",
    "### Run the first cell to generate the plot information, and then run whichever grapher you wish! "
   ]
  },
  {
   "cell_type": "code",
   "execution_count": null,
   "metadata": {
    "collapsed": false
   },
   "outputs": [],
   "source": [
    "#Run this cell first!\n",
    "from parse import *\n",
    "df = read_file(\"#digifest16.csv\")\n",
    "refine_data(df)\n",
    "\n",
    "hours_series = create_hours_series(df)\n",
    "\n",
    "applications_series = create_applications_series(df)\n",
    "hashtag_series = create_hashtags_series(df)\n",
    "dates_df = create_dates(df)\n",
    "hashtag_distrib = hashtag_distribution(dates_df,hashtag_series)\n",
    "users_df = analyse_users(df)\n",
    "users_distrib = users_distribution(dates_df, users_df)\n",
    "analyse_text(df)\n",
    "print_results()\n",
    "user_stats(users_df)\n",
    "popular_hashtags(hashtag_series, 10)"
   ]
  },
  {
   "cell_type": "markdown",
   "metadata": {},
   "source": [
    "#### Plot a word cloud of hashtag usage"
   ]
  },
  {
   "cell_type": "code",
   "execution_count": null,
   "metadata": {
    "collapsed": true
   },
   "outputs": [],
   "source": [
    "hashtag_wordcloud(hashtag_series)"
   ]
  },
  {
   "cell_type": "markdown",
   "metadata": {},
   "source": [
    "#### Plot the number of tweets containing the hashtag per hour"
   ]
  },
  {
   "cell_type": "code",
   "execution_count": null,
   "metadata": {
    "collapsed": true
   },
   "outputs": [],
   "source": [
    "graph_hours(hours_series)"
   ]
  },
  {
   "cell_type": "markdown",
   "metadata": {},
   "source": [
    "#### Plot the top applications used to send the tweets"
   ]
  },
  {
   "cell_type": "code",
   "execution_count": null,
   "metadata": {
    "collapsed": true
   },
   "outputs": [],
   "source": [
    "graph_applications(applications_series)"
   ]
  },
  {
   "cell_type": "markdown",
   "metadata": {},
   "source": [
    "#### Plot the top hashtags used"
   ]
  },
  {
   "cell_type": "code",
   "execution_count": null,
   "metadata": {
    "collapsed": false
   },
   "outputs": [],
   "source": [
    "graph_hashtags(hashtag_series)"
   ]
  },
  {
   "cell_type": "markdown",
   "metadata": {},
   "source": [
    "#### Plot the number of tweets on each day over the course of the event"
   ]
  },
  {
   "cell_type": "code",
   "execution_count": null,
   "metadata": {
    "collapsed": true
   },
   "outputs": [],
   "source": [
    "graph_dates(dates_df)"
   ]
  },
  {
   "cell_type": "markdown",
   "metadata": {},
   "source": [
    "#### Plot the users who tweeted the most"
   ]
  },
  {
   "cell_type": "code",
   "execution_count": null,
   "metadata": {
    "collapsed": true
   },
   "outputs": [],
   "source": [
    "graph_users(users_df)"
   ]
  },
  {
   "cell_type": "markdown",
   "metadata": {},
   "source": [
    "#### Plot the usage of various hashtags over the course of the event"
   ]
  },
  {
   "cell_type": "code",
   "execution_count": null,
   "metadata": {
    "collapsed": true
   },
   "outputs": [],
   "source": [
    "graph_hashtags_distrib(hashtag_distrib)"
   ]
  },
  {
   "cell_type": "markdown",
   "metadata": {},
   "source": [
    "#### Plot the top users, against the number of tweets they made over the course of the event"
   ]
  },
  {
   "cell_type": "code",
   "execution_count": null,
   "metadata": {
    "collapsed": true
   },
   "outputs": [],
   "source": [
    "graph_users_distrib(users_distrib)"
   ]
  },
  {
   "cell_type": "markdown",
   "metadata": {},
   "source": [
    "\n",
    "# Virtual Environment\n",
    "## (requires [conda](http://conda.pydata.org/miniconda.html), [install instructions](http://conda.pydata.org/docs/install/quick.html))\n",
    "With conda installed, in the directory of the project files:\n",
    "this makes the virtual environment with the name 'twitter-analysis'\n",
    "```\n",
    "make env\n",
    "```\n",
    "\n",
    "or, if you want to make the environment with a different name:\n",
    "```\n",
    "make env NAME=the-name-you-want\n",
    "```\n",
    "\n",
    "Next, to enter the virtual environment, type `source activate <environment-name>`, the name will be 'twitter-analysis' by default; and to exit type `source deactivate`.\n"
   ]
  }
 ],
 "metadata": {
  "kernelspec": {
   "display_name": "Python 3",
   "language": "python",
   "name": "python3"
  },
  "language_info": {
   "codemirror_mode": {
    "name": "ipython",
    "version": 3
   },
   "file_extension": ".py",
   "mimetype": "text/x-python",
   "name": "python",
   "nbconvert_exporter": "python",
   "pygments_lexer": "ipython3",
   "version": "3.5.1"
  }
 },
 "nbformat": 4,
 "nbformat_minor": 0
}

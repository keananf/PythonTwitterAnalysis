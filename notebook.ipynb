{
 "cells": [
  {
   "cell_type": "code",
   "execution_count": 4,
   "metadata": {
    "collapsed": false
   },
   "outputs": [
    {
     "name": "stdout",
     "output_type": "stream",
     "text": [
      "        index  tweet  retweet  reply  \\\n",
      "0  1970-01-01     10       32      0   \n",
      "1  1970-01-01     72       90      2   \n",
      "2  1970-01-01     83      102      6   \n",
      "3  1970-01-01     75       82      3   \n",
      "4  1970-01-01     94      104      5   \n",
      "5  1970-01-01     22       70      2   \n",
      "6  1970-01-01     15       52      0   \n",
      "7  1970-01-01     67      122      6   \n",
      "8  1970-01-01    183      223     20   \n",
      "9  1970-01-01   3260     2623    197   \n",
      "10 1970-01-01   2147     2166    179   \n",
      "11 1970-01-01     89      217     18   \n",
      "\n",
      "                                             hashtags  \\\n",
      "0   {'Digifest16': 17, 'digifest16': 25, 'GESS2016...   \n",
      "1   {'Digifest16': 5, 'digifest16': 158, 'excited'...   \n",
      "2   {'jisc50social': 3, 'excited': 1, 'LTHEchat': ...   \n",
      "3   {'tech': 1, 'edtech': 10, 'NerdPoints': 1, 'Uo...   \n",
      "4   {'fb': 1, 'Student': 1, 'employability': 6, 's...   \n",
      "5   {'Digifest16': 7, 'grateful': 4, 'mfltwitterat...   \n",
      "6   {'digifest16': 65, 'learninganalytics': 3, 'em...   \n",
      "7   {'tech': 1, 'jisc50social': 1, 'fashiondesigne...   \n",
      "8   {'CPD': 4, 'interactive': 2, 'Jisc50social': 1...   \n",
      "9   {'WorkSpace': 2, 'CPD': 1, 'SnowDay': 1, 'Dona...   \n",
      "10  {'wordatdemo': 1, 'GIFparty': 1, 'JISC': 1, 'n...   \n",
      "11  {'BoldChat': 4, 'interactive': 1, 'pharmanews'...   \n",
      "\n",
      "                                                users  \n",
      "0   {'JiscScotland': 1, 'ciliplndn': 1, 'Jisc_SnE'...  \n",
      "1   {'Bodles': 3, 'lifeindiaspora': 1, 'elpug': 1,...  \n",
      "2   {'Bodles': 2, 'My_e_learning': 1, 'andystew': ...  \n",
      "3   {'Bodles': 2, 'allaboardHE': 2, 'My_e_learning...  \n",
      "4   {'Bodles': 1, 'libfocus': 1, 'iandolphin24': 1...  \n",
      "5   {'angeladunlopCA': 1, 'CathJeanneau': 1, 'Twee...  \n",
      "6   {'davidwebster': 1, 'Initiatives_lib': 1, 'Don...  \n",
      "7   {'GaleEMEA': 1, 'Videodrome': 1, 'SHMFoundatio...  \n",
      "8   {'Bodles': 1, 'cloud_burst': 5, 'jackieitlaw':...  \n",
      "9   {'Bodles': 1, 'UniofBathIT': 2, 'TBaby_84': 3,...  \n",
      "10  {'Pensoft': 1, 'steveryansav': 1, 'DialUCL': 2...  \n",
      "11  {'Bodles': 1, 'GaleEMEA': 1, 'LearningTechUOC'...  \n"
     ]
    }
   ],
   "source": [
    "from parse import *\n",
    "df = read_file(\"#digifest16.csv\")\n",
    "refine_data(df)\n",
    "\n",
    "applications_series = create_applications_series(df)\n",
    "hashtag_series = create_hashtags_series(df)\n",
    "dates_df = create_dates(df)\n",
    "hashtag_distrib = hashtag_distribution(dates_df,hashtag_series)\n",
    "users_df = analyse_users(df)\n",
    "users_distrib = users_distribution(dates_df, users_df)"
   ]
  },
  {
   "cell_type": "code",
   "execution_count": null,
   "metadata": {
    "collapsed": true
   },
   "outputs": [],
   "source": [
    "graph_applications(applications_series)"
   ]
  },
  {
   "cell_type": "code",
   "execution_count": 5,
   "metadata": {
    "collapsed": true
   },
   "outputs": [],
   "source": [
    "graph_hashtags(hashtag_series)"
   ]
  },
  {
   "cell_type": "code",
   "execution_count": null,
   "metadata": {
    "collapsed": true
   },
   "outputs": [],
   "source": [
    "graph_dates(dates_df)"
   ]
  },
  {
   "cell_type": "code",
   "execution_count": null,
   "metadata": {
    "collapsed": true
   },
   "outputs": [],
   "source": [
    "graph_hashtags_distrib(hashtag_distrib)"
   ]
  },
  {
   "cell_type": "code",
   "execution_count": null,
   "metadata": {
    "collapsed": true
   },
   "outputs": [],
   "source": [
    "graph_users_distrib(users_distrib)"
   ]
  }
 ],
 "metadata": {
  "kernelspec": {
   "display_name": "Python 3",
   "language": "python",
   "name": "python3"
  },
  "language_info": {
   "codemirror_mode": {
    "name": "ipython",
    "version": 3
   },
   "file_extension": ".py",
   "mimetype": "text/x-python",
   "name": "python",
   "nbconvert_exporter": "python",
   "pygments_lexer": "ipython3",
   "version": "3.5.0"
  }
 },
 "nbformat": 4,
 "nbformat_minor": 0
}
